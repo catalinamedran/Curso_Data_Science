{
  "nbformat": 4,
  "nbformat_minor": 0,
  "metadata": {
    "colab": {
      "provenance": [],
      "authorship_tag": "ABX9TyNGyc4tZdmHX5owzQniWJTo",
      "include_colab_link": true
    },
    "kernelspec": {
      "name": "python3",
      "display_name": "Python 3"
    },
    "language_info": {
      "name": "python"
    }
  },
  "cells": [
    {
      "cell_type": "markdown",
      "metadata": {
        "id": "view-in-github",
        "colab_type": "text"
      },
      "source": [
        "<a href=\"https://colab.research.google.com/github/catalinamedran/Entrega1/blob/main/Entrega1.ipynb\" target=\"_parent\"><img src=\"https://colab.research.google.com/assets/colab-badge.svg\" alt=\"Open In Colab\"/></a>"
      ]
    },
    {
      "cell_type": "markdown",
      "source": [
        "# Proyecto Final - Visualizaciones en Python\n",
        "\n",
        "### Primera Entrega  \n",
        "Archivo: ProyectoDS_Parte1_Medran_C\n",
        "\n",
        "---\n",
        "\n",
        "##📌 *Abstract*\n",
        "\n",
        "Este proyecto utiliza el dataset “Spotify Analysis Dataset 2025” proveniente de Kaggle, que contiene información de usuarios de la plataforma de música Spotify. Cada registro corresponde a un usuario e incluye datos demográficos (edad, género, país), características de uso (tiempo de escucha, canciones reproducidas por día, porcentaje de canciones saltadas, minutos de escucha offline, anuncios escuchados) y tipo de suscripción (Free, Premium, Family, Student). La base de datos también incorpora la variable objetivo is_churned, que indica si el usuario canceló o mantuvo su suscripción.\n",
        "\n",
        "El objetivo del proyecto es explorar el comportamiento de los usuarios de Spotify desde una perspectiva descriptiva y visual, identificando patrones de uso, diferencias entre tipos de suscripción y posibles factores asociados a la cancelación del servicio. Para ello se aplican técnicas de análisis univariado, bivariado y multivariado, utilizando herramientas como pandas, Matplotlib y Seaborn.\n",
        "\n",
        "El análisis comienza con una revisión de la calidad de los datos y detección de valores faltantes, seguido de visualizaciones que permiten responder preguntas clave sobre la distribución de variables, correlaciones y contrastes entre usuarios que se dieron de baja y los que permanecen activos. Este estudio exploratorio permitirá sentar las bases para análisis posteriores orientados a la predicción de churn y la toma de decisiones estratégicas para mejorar la retención de usuarios.\n"
      ],
      "metadata": {
        "id": "DHcgGKSqTZWl"
      }
    },
    {
      "cell_type": "markdown",
      "source": [
        "##❓*Preguntas de interés*\n",
        "\n",
        "\n",
        "1. ¿Cómo se distribuye el tiempo de escucha diario de los usuarios de Spotify?\n",
        "2. ¿Existe relación entre el tipo de suscripción y la probabilidad de churn?\n",
        "3. ¿Cómo se relacionan el número de canciones reproducidas por día, el porcentaje de canciones saltadas y el churn de los usuarios?\n",
        "\n"
      ],
      "metadata": {
        "id": "sQoLdkHNaoru"
      }
    },
    {
      "cell_type": "markdown",
      "source": [
        "## *Objetivo del proyecto*\n",
        "El objetivo de este proyecto es explorar el comportamiento de los usuarios de Spotify y analizar los factores que pueden influir en la cancelación de su suscripción (churn). Se busca identificar patrones de uso y diferencias entre tipos de suscripción, características demográficas y hábitos de escucha, utilizando visualizaciones univariadas, bivariadas y multivariadas. Este análisis descriptivo permitirá comprender mejor qué variables están asociadas al churn y sentará las bases para futuros trabajos de predicción de cancelaciones, segmentación de usuarios y optimización de estrategias de retención en la plataforma."
      ],
      "metadata": {
        "id": "B7BQ6azTaWqO"
      }
    },
    {
      "cell_type": "code",
      "source": [],
      "metadata": {
        "id": "ploQ0EWzaluk"
      },
      "execution_count": null,
      "outputs": []
    }
  ]
}